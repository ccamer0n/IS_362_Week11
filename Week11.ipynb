{
 "cells": [
  {
   "cell_type": "markdown",
   "id": "ef498c45",
   "metadata": {},
   "source": [
    "## Week 11 Assignment\n",
    "### Web APIs"
   ]
  },
  {
   "cell_type": "code",
   "execution_count": 90,
   "id": "abfaac01",
   "metadata": {},
   "outputs": [],
   "source": [
    "import requests\n",
    "import json\n",
    "import pandas as pd\n",
    "import numpy as np"
   ]
  },
  {
   "cell_type": "markdown",
   "id": "c609e04f",
   "metadata": {},
   "source": [
    "We will begin by assigning the API key and url to variables:"
   ]
  },
  {
   "cell_type": "code",
   "execution_count": 91,
   "id": "c4e4feb4",
   "metadata": {},
   "outputs": [],
   "source": [
    "api_key = \"bVLjI7h0dZsRcoWKPfYPAC5avBdbs1hI\""
   ]
  },
  {
   "cell_type": "code",
   "execution_count": 92,
   "id": "51f2010f",
   "metadata": {},
   "outputs": [],
   "source": [
    "url = f\"https://api.nytimes.com/svc/mostpopular/v2/emailed/1.json?api-key={api_key}\""
   ]
  },
  {
   "cell_type": "markdown",
   "id": "c45f4bee",
   "metadata": {},
   "source": [
    "Using the url and api_key variables, along with the requests and json modules, we can run a query to get the most emailed stories for the last day: "
   ]
  },
  {
   "cell_type": "code",
   "execution_count": 93,
   "id": "4421f22f",
   "metadata": {},
   "outputs": [],
   "source": [
    "query = requests.get(url)\n",
    "data = query.json()"
   ]
  },
  {
   "cell_type": "markdown",
   "id": "cc5c653d",
   "metadata": {},
   "source": [
    "Finally, we can transform this data into a pandas DataFrame:"
   ]
  },
  {
   "cell_type": "code",
   "execution_count": 94,
   "id": "9775c8f8",
   "metadata": {},
   "outputs": [],
   "source": [
    "df = pd.DataFrame([data['results']])"
   ]
  },
  {
   "cell_type": "code",
   "execution_count": 95,
   "id": "08b792f4",
   "metadata": {},
   "outputs": [
    {
     "name": "stdout",
     "output_type": "stream",
     "text": [
      "                                Most Emailed Articles\n",
      "0   {'uri': 'nyt://article/771231c8-bb38-51c8-a499...\n",
      "1   {'uri': 'nyt://article/9cfbf5fc-a9af-5ffb-bf70...\n",
      "2   {'uri': 'nyt://article/44726df2-d089-5b3a-9441...\n",
      "3   {'uri': 'nyt://article/cae63158-7401-550f-8971...\n",
      "4   {'uri': 'nyt://article/1e4f3748-bde3-5a11-ac02...\n",
      "5   {'uri': 'nyt://article/fb21f40c-e9f3-5f94-bc78...\n",
      "6   {'uri': 'nyt://article/2b71c5ad-f206-5b15-9d67...\n",
      "7   {'uri': 'nyt://article/7254b187-9bf9-55d6-a411...\n",
      "8   {'uri': 'nyt://article/e8584d2e-86a4-5920-a559...\n",
      "9   {'uri': 'nyt://article/4d679096-40a2-5ede-ad16...\n",
      "10  {'uri': 'nyt://article/8668bb65-711b-5000-87f0...\n",
      "11  {'uri': 'nyt://article/198f21f1-9dab-5277-a5fa...\n",
      "12  {'uri': 'nyt://interactive/157ed40c-bb1f-58a8-...\n",
      "13  {'uri': 'nyt://article/cbf42d0b-bf35-5ed4-b31a...\n",
      "14  {'uri': 'nyt://article/ea250d52-cdb5-5dec-9e81...\n",
      "15  {'uri': 'nyt://article/66758b09-da71-53ed-bf5f...\n",
      "16  {'uri': 'nyt://article/6b1f4792-4c44-5500-aaec...\n",
      "17  {'uri': 'nyt://article/da17aaba-4282-587e-a414...\n",
      "18  {'uri': 'nyt://article/54cab2cf-07e7-5d2a-8be3...\n",
      "19  {'uri': 'nyt://article/bb88df61-db58-517a-b856...\n"
     ]
    }
   ],
   "source": [
    "df = df.T\n",
    "df.rename(columns = {0:'Most Emailed Articles'}, inplace = True)\n",
    "print(df)"
   ]
  },
  {
   "cell_type": "markdown",
   "id": "68014ab7",
   "metadata": {},
   "source": [
    "The results look good, but we would like the index to start at 1:"
   ]
  },
  {
   "cell_type": "code",
   "execution_count": 96,
   "id": "98a45a6c",
   "metadata": {},
   "outputs": [
    {
     "name": "stdout",
     "output_type": "stream",
     "text": [
      "                                Most Emailed Articles\n",
      "1   {'uri': 'nyt://article/771231c8-bb38-51c8-a499...\n",
      "2   {'uri': 'nyt://article/9cfbf5fc-a9af-5ffb-bf70...\n",
      "3   {'uri': 'nyt://article/44726df2-d089-5b3a-9441...\n",
      "4   {'uri': 'nyt://article/cae63158-7401-550f-8971...\n",
      "5   {'uri': 'nyt://article/1e4f3748-bde3-5a11-ac02...\n",
      "6   {'uri': 'nyt://article/fb21f40c-e9f3-5f94-bc78...\n",
      "7   {'uri': 'nyt://article/2b71c5ad-f206-5b15-9d67...\n",
      "8   {'uri': 'nyt://article/7254b187-9bf9-55d6-a411...\n",
      "9   {'uri': 'nyt://article/e8584d2e-86a4-5920-a559...\n",
      "10  {'uri': 'nyt://article/4d679096-40a2-5ede-ad16...\n",
      "11  {'uri': 'nyt://article/8668bb65-711b-5000-87f0...\n",
      "12  {'uri': 'nyt://article/198f21f1-9dab-5277-a5fa...\n",
      "13  {'uri': 'nyt://interactive/157ed40c-bb1f-58a8-...\n",
      "14  {'uri': 'nyt://article/cbf42d0b-bf35-5ed4-b31a...\n",
      "15  {'uri': 'nyt://article/ea250d52-cdb5-5dec-9e81...\n",
      "16  {'uri': 'nyt://article/66758b09-da71-53ed-bf5f...\n",
      "17  {'uri': 'nyt://article/6b1f4792-4c44-5500-aaec...\n",
      "18  {'uri': 'nyt://article/da17aaba-4282-587e-a414...\n",
      "19  {'uri': 'nyt://article/54cab2cf-07e7-5d2a-8be3...\n",
      "20  {'uri': 'nyt://article/bb88df61-db58-517a-b856...\n"
     ]
    }
   ],
   "source": [
    "df.index += 1\n",
    "print(df)"
   ]
  },
  {
   "cell_type": "markdown",
   "id": "acf4fbca",
   "metadata": {},
   "source": [
    "And now we have a list of the 20 most emailed articles of the past day."
   ]
  }
 ],
 "metadata": {
  "kernelspec": {
   "display_name": "Python 3 (ipykernel)",
   "language": "python",
   "name": "python3"
  },
  "language_info": {
   "codemirror_mode": {
    "name": "ipython",
    "version": 3
   },
   "file_extension": ".py",
   "mimetype": "text/x-python",
   "name": "python",
   "nbconvert_exporter": "python",
   "pygments_lexer": "ipython3",
   "version": "3.9.13"
  }
 },
 "nbformat": 4,
 "nbformat_minor": 5
}
